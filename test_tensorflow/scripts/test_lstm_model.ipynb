{
 "cells": [
  {
   "cell_type": "code",
   "execution_count": 3,
   "metadata": {},
   "outputs": [],
   "source": [
    "import pandas as pd\n",
    "import numpy as np\n",
    "\n",
    "import tensorflow as tf\n",
    "from tensorflow.keras import layers"
   ]
  },
  {
   "cell_type": "code",
   "execution_count": 4,
   "metadata": {},
   "outputs": [],
   "source": [
    "import matplotlib.pyplot as plt"
   ]
  },
  {
   "cell_type": "code",
   "execution_count": 77,
   "metadata": {},
   "outputs": [],
   "source": [
    "inputs = ['EXG Channel 0', 'EXG Channel 1', 'EXG Channel 2', 'EXG Channel 3', 'EXG Channel 4', 'EXG Channel 5', 'EXG Channel 6', 'EXG Channel 7', 'EXG Channel 8', 'EXG Channel 9', 'EXG Channel 10', 'EXG Channel 11', 'EXG Channel 12', 'EXG Channel 13', 'EXG Channel 14', 'EXG Channel 15']\n",
    "outputs = ['nose y', 'nose x', 'left eye y', 'left eye x', 'right eye y', 'right eye x', 'left ear y', 'left ear x', 'right ear y', 'right ear x', 'left shoulder y', 'left shoulder x', 'right shoulder y', 'right shoulder x', 'left elbow y', 'left elbow x', 'right elbow y', 'right elbow x', 'left wrist y', 'left wrist x', 'right wrist y', 'right wrist x', 'left hip y', 'left hip x', 'right hip y', 'right hip x', 'left knee y', 'left knee x', 'right knee y', 'right knee x', 'left ankle y', 'left ankle x', 'right ankle y', 'right ankle x']"
   ]
  },
  {
   "cell_type": "code",
   "execution_count": 12,
   "metadata": {},
   "outputs": [
    {
     "name": "stdout",
     "output_type": "stream",
     "text": [
      "(621, 16)\n",
      "(621, 34)\n"
     ]
    }
   ],
   "source": [
    "#Load the training data into a dataframe\n",
    "training_dataset = pd.read_csv('../prepared_data/Training_Data_synthetic.csv') \n",
    "training_keypoints = training_dataset.copy()\n",
    "training_labels = np.array(training_keypoints[outputs])\n",
    "training_eeg = np.array(training_keypoints[inputs])\n",
    "print(training_eeg.shape)\n",
    "print(training_labels.shape)"
   ]
  },
  {
   "cell_type": "code",
   "execution_count": 7,
   "metadata": {},
   "outputs": [
    {
     "data": {
      "text/html": [
       "<div>\n",
       "<style scoped>\n",
       "    .dataframe tbody tr th:only-of-type {\n",
       "        vertical-align: middle;\n",
       "    }\n",
       "\n",
       "    .dataframe tbody tr th {\n",
       "        vertical-align: top;\n",
       "    }\n",
       "\n",
       "    .dataframe thead th {\n",
       "        text-align: right;\n",
       "    }\n",
       "</style>\n",
       "<table border=\"1\" class=\"dataframe\">\n",
       "  <thead>\n",
       "    <tr style=\"text-align: right;\">\n",
       "      <th></th>\n",
       "      <th>nose y</th>\n",
       "      <th>nose x</th>\n",
       "      <th>nose c</th>\n",
       "      <th>left eye y</th>\n",
       "      <th>left eye x</th>\n",
       "      <th>left eye c</th>\n",
       "      <th>right eye y</th>\n",
       "      <th>right eye x</th>\n",
       "      <th>right eye c</th>\n",
       "      <th>left ear y</th>\n",
       "      <th>...</th>\n",
       "      <th>EXG Channel 6</th>\n",
       "      <th>EXG Channel 7</th>\n",
       "      <th>EXG Channel 8</th>\n",
       "      <th>EXG Channel 9</th>\n",
       "      <th>EXG Channel 10</th>\n",
       "      <th>EXG Channel 11</th>\n",
       "      <th>EXG Channel 12</th>\n",
       "      <th>EXG Channel 13</th>\n",
       "      <th>EXG Channel 14</th>\n",
       "      <th>EXG Channel 15</th>\n",
       "    </tr>\n",
       "  </thead>\n",
       "  <tbody>\n",
       "    <tr>\n",
       "      <th>0</th>\n",
       "      <td>0.184159</td>\n",
       "      <td>0.509971</td>\n",
       "      <td>0.011455</td>\n",
       "      <td>0.148159</td>\n",
       "      <td>0.567829</td>\n",
       "      <td>0.009986</td>\n",
       "      <td>0.164116</td>\n",
       "      <td>0.548859</td>\n",
       "      <td>0.017831</td>\n",
       "      <td>0.102838</td>\n",
       "      <td>...</td>\n",
       "      <td>41.996988</td>\n",
       "      <td>-132.858158</td>\n",
       "      <td>77.864949</td>\n",
       "      <td>-14.744279</td>\n",
       "      <td>-57.041168</td>\n",
       "      <td>-53.770537</td>\n",
       "      <td>-37.420275</td>\n",
       "      <td>-51.738719</td>\n",
       "      <td>33.124594</td>\n",
       "      <td>-74.722500</td>\n",
       "    </tr>\n",
       "    <tr>\n",
       "      <th>1</th>\n",
       "      <td>0.184159</td>\n",
       "      <td>0.509971</td>\n",
       "      <td>0.011455</td>\n",
       "      <td>0.148159</td>\n",
       "      <td>0.567829</td>\n",
       "      <td>0.009986</td>\n",
       "      <td>0.164116</td>\n",
       "      <td>0.548859</td>\n",
       "      <td>0.017831</td>\n",
       "      <td>0.102838</td>\n",
       "      <td>...</td>\n",
       "      <td>-28.828246</td>\n",
       "      <td>-64.418623</td>\n",
       "      <td>64.753902</td>\n",
       "      <td>-18.535593</td>\n",
       "      <td>-60.881877</td>\n",
       "      <td>-87.289420</td>\n",
       "      <td>-24.009047</td>\n",
       "      <td>-91.002046</td>\n",
       "      <td>29.745448</td>\n",
       "      <td>-33.248701</td>\n",
       "    </tr>\n",
       "    <tr>\n",
       "      <th>2</th>\n",
       "      <td>0.184159</td>\n",
       "      <td>0.509971</td>\n",
       "      <td>0.011455</td>\n",
       "      <td>0.148159</td>\n",
       "      <td>0.567829</td>\n",
       "      <td>0.009986</td>\n",
       "      <td>0.164116</td>\n",
       "      <td>0.548859</td>\n",
       "      <td>0.017831</td>\n",
       "      <td>0.102838</td>\n",
       "      <td>...</td>\n",
       "      <td>-98.293650</td>\n",
       "      <td>33.916804</td>\n",
       "      <td>-16.672206</td>\n",
       "      <td>-26.084640</td>\n",
       "      <td>-74.956990</td>\n",
       "      <td>-82.361904</td>\n",
       "      <td>-24.567369</td>\n",
       "      <td>-111.580291</td>\n",
       "      <td>-9.961168</td>\n",
       "      <td>16.216094</td>\n",
       "    </tr>\n",
       "    <tr>\n",
       "      <th>3</th>\n",
       "      <td>0.200854</td>\n",
       "      <td>0.510157</td>\n",
       "      <td>0.011543</td>\n",
       "      <td>0.163591</td>\n",
       "      <td>0.566250</td>\n",
       "      <td>0.010709</td>\n",
       "      <td>0.188705</td>\n",
       "      <td>0.485532</td>\n",
       "      <td>0.011435</td>\n",
       "      <td>0.102403</td>\n",
       "      <td>...</td>\n",
       "      <td>-55.649411</td>\n",
       "      <td>-53.832882</td>\n",
       "      <td>10.879658</td>\n",
       "      <td>17.166846</td>\n",
       "      <td>155.629848</td>\n",
       "      <td>-31.591964</td>\n",
       "      <td>23.240537</td>\n",
       "      <td>-85.198344</td>\n",
       "      <td>4.839110</td>\n",
       "      <td>79.509034</td>\n",
       "    </tr>\n",
       "    <tr>\n",
       "      <th>4</th>\n",
       "      <td>0.200854</td>\n",
       "      <td>0.510157</td>\n",
       "      <td>0.011543</td>\n",
       "      <td>0.163591</td>\n",
       "      <td>0.566250</td>\n",
       "      <td>0.010709</td>\n",
       "      <td>0.188705</td>\n",
       "      <td>0.485532</td>\n",
       "      <td>0.011435</td>\n",
       "      <td>0.102403</td>\n",
       "      <td>...</td>\n",
       "      <td>20.206357</td>\n",
       "      <td>-54.276958</td>\n",
       "      <td>-15.435135</td>\n",
       "      <td>36.097077</td>\n",
       "      <td>106.523375</td>\n",
       "      <td>-30.153652</td>\n",
       "      <td>-20.745524</td>\n",
       "      <td>-29.518766</td>\n",
       "      <td>-13.001953</td>\n",
       "      <td>98.014149</td>\n",
       "    </tr>\n",
       "  </tbody>\n",
       "</table>\n",
       "<p>5 rows × 67 columns</p>\n",
       "</div>"
      ],
      "text/plain": [
       "     nose y    nose x    nose c  left eye y  left eye x  left eye c  \\\n",
       "0  0.184159  0.509971  0.011455    0.148159    0.567829    0.009986   \n",
       "1  0.184159  0.509971  0.011455    0.148159    0.567829    0.009986   \n",
       "2  0.184159  0.509971  0.011455    0.148159    0.567829    0.009986   \n",
       "3  0.200854  0.510157  0.011543    0.163591    0.566250    0.010709   \n",
       "4  0.200854  0.510157  0.011543    0.163591    0.566250    0.010709   \n",
       "\n",
       "   right eye y  right eye x  right eye c  left ear y  ...  EXG Channel 6  \\\n",
       "0     0.164116     0.548859     0.017831    0.102838  ...      41.996988   \n",
       "1     0.164116     0.548859     0.017831    0.102838  ...     -28.828246   \n",
       "2     0.164116     0.548859     0.017831    0.102838  ...     -98.293650   \n",
       "3     0.188705     0.485532     0.011435    0.102403  ...     -55.649411   \n",
       "4     0.188705     0.485532     0.011435    0.102403  ...      20.206357   \n",
       "\n",
       "   EXG Channel 7  EXG Channel 8  EXG Channel 9  EXG Channel 10  \\\n",
       "0    -132.858158      77.864949     -14.744279      -57.041168   \n",
       "1     -64.418623      64.753902     -18.535593      -60.881877   \n",
       "2      33.916804     -16.672206     -26.084640      -74.956990   \n",
       "3     -53.832882      10.879658      17.166846      155.629848   \n",
       "4     -54.276958     -15.435135      36.097077      106.523375   \n",
       "\n",
       "   EXG Channel 11  EXG Channel 12  EXG Channel 13  EXG Channel 14  \\\n",
       "0      -53.770537      -37.420275      -51.738719       33.124594   \n",
       "1      -87.289420      -24.009047      -91.002046       29.745448   \n",
       "2      -82.361904      -24.567369     -111.580291       -9.961168   \n",
       "3      -31.591964       23.240537      -85.198344        4.839110   \n",
       "4      -30.153652      -20.745524      -29.518766      -13.001953   \n",
       "\n",
       "   EXG Channel 15  \n",
       "0      -74.722500  \n",
       "1      -33.248701  \n",
       "2       16.216094  \n",
       "3       79.509034  \n",
       "4       98.014149  \n",
       "\n",
       "[5 rows x 67 columns]"
      ]
     },
     "execution_count": 7,
     "metadata": {},
     "output_type": "execute_result"
    }
   ],
   "source": [
    "training_dataset.head()"
   ]
  },
  {
   "cell_type": "code",
   "execution_count": 22,
   "metadata": {},
   "outputs": [],
   "source": [
    "#Same thing for the validation data\n",
    "# validation_dataset = pd.read_csv('../prepared_data/Validation_Data_synthetic.csv')\n",
    "# validation_keypoints = validation_dataset.copy()\n",
    "# validation_labels = np.array(validation_keypoints[outputs])\n",
    "# validation_eeg = np.array(validation_keypoints[inputs])\n",
    "# print(validation_eeg.shape)\n",
    "# print(validation_labels.shape)"
   ]
  },
  {
   "cell_type": "code",
   "execution_count": 23,
   "metadata": {},
   "outputs": [],
   "source": [
    "# validation_dataset.head()"
   ]
  },
  {
   "cell_type": "code",
   "execution_count": 17,
   "metadata": {},
   "outputs": [
    {
     "name": "stdout",
     "output_type": "stream",
     "text": [
      "(590, 32, 16)\n",
      "(590, 34)\n"
     ]
    }
   ],
   "source": [
    "seq_length = 32\n",
    "\n",
    "def overlap_samples(seq_length, feats, labels):\n",
    "    new_l = labels[seq_length - 1:]\n",
    "    feat_list = [feats[i:i + seq_length] for i in range(feats.shape[0] - seq_length + 1)]\n",
    "    new_f = np.array(feat_list)\n",
    "    return new_f, new_l\n",
    "\n",
    "training_eeg, training_labels = overlap_samples(seq_length, training_eeg, training_labels)\n",
    "print(training_eeg.shape)\n",
    "print(training_labels.shape)"
   ]
  },
  {
   "cell_type": "code",
   "execution_count": 15,
   "metadata": {},
   "outputs": [],
   "source": [
    "#Set the model\n",
    "pose_model = tf.keras.Sequential([\n",
    "    layers.LSTM(256, return_sequences=True, input_shape=(seq_length, 16)),\n",
    "    layers.Dropout(.5),\n",
    "    layers.LSTM(256, return_sequences=True),\n",
    "    layers.Dropout(.5),\n",
    "    layers.LSTM(128),\n",
    "    layers.BatchNormalization(),\n",
    "    layers.Dense(512, input_dim=128),\n",
    "    layers.Activation('relu'),\n",
    "    layers.BatchNormalization(),\n",
    "    layers.Dropout(.5),\n",
    "    layers.Dense(512, input_dim=512),\n",
    "    layers.Activation('relu'),\n",
    "    layers.BatchNormalization(),\n",
    "    layers.Dropout(.5),\n",
    "    layers.Dense(256, input_dim=512),\n",
    "    layers.Activation('relu'),\n",
    "    layers.Dropout(.3),\n",
    "    layers.Dense(34, input_dim=64),\n",
    "    ])\n",
    "\n"
   ]
  },
  {
   "cell_type": "code",
   "execution_count": 19,
   "metadata": {},
   "outputs": [],
   "source": [
    "pose_model.compile(loss = tf.keras.losses.MeanSquaredError(), optimizer = tf.keras.optimizers.Adam(), metrics=['accuracy'])"
   ]
  },
  {
   "cell_type": "code",
   "execution_count": 20,
   "metadata": {},
   "outputs": [
    {
     "name": "stdout",
     "output_type": "stream",
     "text": [
      "Model: \"sequential\"\n",
      "_________________________________________________________________\n",
      " Layer (type)                Output Shape              Param #   \n",
      "=================================================================\n",
      " lstm_3 (LSTM)               (None, 32, 256)           279552    \n",
      "                                                                 \n",
      " dropout_2 (Dropout)         (None, 32, 256)           0         \n",
      "                                                                 \n",
      " lstm_4 (LSTM)               (None, 32, 256)           525312    \n",
      "                                                                 \n",
      " dropout_3 (Dropout)         (None, 32, 256)           0         \n",
      "                                                                 \n",
      " lstm_5 (LSTM)               (None, 128)               197120    \n",
      "                                                                 \n",
      " batch_normalization (Batch  (None, 128)               512       \n",
      " Normalization)                                                  \n",
      "                                                                 \n",
      " dense (Dense)               (None, 512)               66048     \n",
      "                                                                 \n",
      " activation (Activation)     (None, 512)               0         \n",
      "                                                                 \n",
      " batch_normalization_1 (Bat  (None, 512)               2048      \n",
      " chNormalization)                                                \n",
      "                                                                 \n",
      " dropout_4 (Dropout)         (None, 512)               0         \n",
      "                                                                 \n",
      " dense_1 (Dense)             (None, 512)               262656    \n",
      "                                                                 \n",
      " activation_1 (Activation)   (None, 512)               0         \n",
      "                                                                 \n",
      " batch_normalization_2 (Bat  (None, 512)               2048      \n",
      " chNormalization)                                                \n",
      "                                                                 \n",
      " dropout_5 (Dropout)         (None, 512)               0         \n",
      "                                                                 \n",
      " dense_2 (Dense)             (None, 256)               131328    \n",
      "                                                                 \n",
      " activation_2 (Activation)   (None, 256)               0         \n",
      "                                                                 \n",
      " dropout_6 (Dropout)         (None, 256)               0         \n",
      "                                                                 \n",
      " dense_3 (Dense)             (None, 34)                8738      \n",
      "                                                                 \n",
      "=================================================================\n",
      "Total params: 1475362 (5.63 MB)\n",
      "Trainable params: 1473058 (5.62 MB)\n",
      "Non-trainable params: 2304 (9.00 KB)\n",
      "_________________________________________________________________\n"
     ]
    }
   ],
   "source": [
    "pose_model.summary()"
   ]
  },
  {
   "cell_type": "code",
   "execution_count": 21,
   "metadata": {},
   "outputs": [
    {
     "name": "stdout",
     "output_type": "stream",
     "text": [
      "Epoch 1/100\n",
      "15/15 [==============================] - 11s 294ms/step - loss: 2.5495 - accuracy: 0.0403 - val_loss: 0.2508 - val_accuracy: 0.0000e+00\n",
      "Epoch 2/100\n",
      "15/15 [==============================] - 2s 150ms/step - loss: 1.9034 - accuracy: 0.0593 - val_loss: 0.2228 - val_accuracy: 0.0254\n",
      "Epoch 3/100\n",
      "15/15 [==============================] - 2s 153ms/step - loss: 1.4710 - accuracy: 0.0847 - val_loss: 0.1984 - val_accuracy: 0.0678\n",
      "Epoch 4/100\n",
      "15/15 [==============================] - 2s 154ms/step - loss: 1.1902 - accuracy: 0.0699 - val_loss: 0.1721 - val_accuracy: 0.0000e+00\n",
      "Epoch 5/100\n",
      "15/15 [==============================] - 2s 153ms/step - loss: 0.9606 - accuracy: 0.0953 - val_loss: 0.1544 - val_accuracy: 0.0000e+00\n",
      "Epoch 6/100\n",
      "15/15 [==============================] - 2s 153ms/step - loss: 0.7808 - accuracy: 0.0847 - val_loss: 0.1479 - val_accuracy: 0.2458\n",
      "Epoch 7/100\n",
      "15/15 [==============================] - 2s 154ms/step - loss: 0.6535 - accuracy: 0.1165 - val_loss: 0.1475 - val_accuracy: 0.2119\n",
      "Epoch 8/100\n",
      "15/15 [==============================] - 2s 152ms/step - loss: 0.5617 - accuracy: 0.0932 - val_loss: 0.1385 - val_accuracy: 0.1610\n",
      "Epoch 9/100\n",
      "15/15 [==============================] - 2s 153ms/step - loss: 0.4679 - accuracy: 0.1292 - val_loss: 0.1350 - val_accuracy: 0.4153\n",
      "Epoch 10/100\n",
      "15/15 [==============================] - 2s 152ms/step - loss: 0.4027 - accuracy: 0.1271 - val_loss: 0.1313 - val_accuracy: 0.0508\n",
      "Epoch 11/100\n",
      "15/15 [==============================] - 2s 152ms/step - loss: 0.3575 - accuracy: 0.1208 - val_loss: 0.1189 - val_accuracy: 0.1780\n",
      "Epoch 12/100\n",
      "15/15 [==============================] - 2s 152ms/step - loss: 0.3092 - accuracy: 0.1314 - val_loss: 0.1065 - val_accuracy: 0.0763\n",
      "Epoch 13/100\n",
      "15/15 [==============================] - 2s 153ms/step - loss: 0.2724 - accuracy: 0.1483 - val_loss: 0.0885 - val_accuracy: 0.1102\n",
      "Epoch 14/100\n",
      "15/15 [==============================] - 2s 152ms/step - loss: 0.2406 - accuracy: 0.1610 - val_loss: 0.0790 - val_accuracy: 0.2797\n",
      "Epoch 15/100\n",
      "15/15 [==============================] - 2s 152ms/step - loss: 0.2091 - accuracy: 0.1758 - val_loss: 0.0901 - val_accuracy: 0.3644\n",
      "Epoch 16/100\n",
      "15/15 [==============================] - 2s 152ms/step - loss: 0.1944 - accuracy: 0.1822 - val_loss: 0.0784 - val_accuracy: 0.7203\n",
      "Epoch 17/100\n",
      "15/15 [==============================] - 2s 151ms/step - loss: 0.1707 - accuracy: 0.2331 - val_loss: 0.0736 - val_accuracy: 0.4322\n",
      "Epoch 18/100\n",
      "15/15 [==============================] - 2s 153ms/step - loss: 0.1591 - accuracy: 0.2097 - val_loss: 0.0642 - val_accuracy: 0.0508\n",
      "Epoch 19/100\n",
      "15/15 [==============================] - 2s 152ms/step - loss: 0.1464 - accuracy: 0.2097 - val_loss: 0.0511 - val_accuracy: 0.1525\n",
      "Epoch 20/100\n",
      "15/15 [==============================] - 2s 153ms/step - loss: 0.1309 - accuracy: 0.2246 - val_loss: 0.0547 - val_accuracy: 0.1949\n",
      "Epoch 21/100\n",
      "15/15 [==============================] - 2s 152ms/step - loss: 0.1139 - accuracy: 0.2352 - val_loss: 0.0556 - val_accuracy: 0.1271\n",
      "Epoch 22/100\n",
      "15/15 [==============================] - 2s 153ms/step - loss: 0.1076 - accuracy: 0.2458 - val_loss: 0.0436 - val_accuracy: 0.0000e+00\n",
      "Epoch 23/100\n",
      "15/15 [==============================] - 2s 152ms/step - loss: 0.0988 - accuracy: 0.2669 - val_loss: 0.0433 - val_accuracy: 0.6271\n",
      "Epoch 24/100\n",
      "15/15 [==============================] - 2s 152ms/step - loss: 0.0892 - accuracy: 0.2860 - val_loss: 0.0490 - val_accuracy: 0.8898\n",
      "Epoch 25/100\n",
      "15/15 [==============================] - 2s 151ms/step - loss: 0.0845 - accuracy: 0.2966 - val_loss: 0.0463 - val_accuracy: 0.9576\n",
      "Epoch 26/100\n",
      "15/15 [==============================] - 2s 151ms/step - loss: 0.0771 - accuracy: 0.3432 - val_loss: 0.0472 - val_accuracy: 0.8983\n",
      "Epoch 27/100\n",
      "15/15 [==============================] - 2s 152ms/step - loss: 0.0761 - accuracy: 0.2839 - val_loss: 0.0542 - val_accuracy: 0.7627\n",
      "Epoch 28/100\n",
      "15/15 [==============================] - 2s 152ms/step - loss: 0.0662 - accuracy: 0.3538 - val_loss: 0.0508 - val_accuracy: 0.7203\n",
      "Epoch 29/100\n",
      "15/15 [==============================] - 2s 152ms/step - loss: 0.0633 - accuracy: 0.3581 - val_loss: 0.0285 - val_accuracy: 0.9576\n",
      "Epoch 30/100\n",
      "15/15 [==============================] - 2s 151ms/step - loss: 0.0615 - accuracy: 0.3729 - val_loss: 0.0473 - val_accuracy: 0.9831\n",
      "Epoch 31/100\n",
      "15/15 [==============================] - 2s 151ms/step - loss: 0.0603 - accuracy: 0.3559 - val_loss: 0.0533 - val_accuracy: 0.8220\n",
      "Epoch 32/100\n",
      "15/15 [==============================] - 2s 151ms/step - loss: 0.0539 - accuracy: 0.3750 - val_loss: 0.0353 - val_accuracy: 0.7966\n",
      "Epoch 33/100\n",
      "15/15 [==============================] - 2s 152ms/step - loss: 0.0445 - accuracy: 0.3898 - val_loss: 0.0613 - val_accuracy: 0.8729\n",
      "Epoch 34/100\n",
      "15/15 [==============================] - 2s 152ms/step - loss: 0.0482 - accuracy: 0.4131 - val_loss: 0.0288 - val_accuracy: 0.9831\n",
      "Epoch 35/100\n",
      "15/15 [==============================] - 2s 151ms/step - loss: 0.0491 - accuracy: 0.4661 - val_loss: 0.0474 - val_accuracy: 0.9831\n",
      "Epoch 36/100\n",
      "15/15 [==============================] - 2s 151ms/step - loss: 0.0420 - accuracy: 0.4258 - val_loss: 0.0459 - val_accuracy: 0.9831\n",
      "Epoch 37/100\n",
      "15/15 [==============================] - 2s 152ms/step - loss: 0.0566 - accuracy: 0.4216 - val_loss: 0.0606 - val_accuracy: 0.9831\n",
      "Epoch 38/100\n",
      "15/15 [==============================] - 2s 152ms/step - loss: 0.0425 - accuracy: 0.4492 - val_loss: 0.0673 - val_accuracy: 0.9661\n",
      "Epoch 39/100\n",
      "15/15 [==============================] - 2s 152ms/step - loss: 0.0398 - accuracy: 0.4682 - val_loss: 0.0509 - val_accuracy: 0.9831\n",
      "Epoch 40/100\n",
      "15/15 [==============================] - 2s 152ms/step - loss: 0.0384 - accuracy: 0.5127 - val_loss: 0.0467 - val_accuracy: 0.9831\n",
      "Epoch 41/100\n",
      "15/15 [==============================] - 2s 152ms/step - loss: 0.0323 - accuracy: 0.5064 - val_loss: 0.0307 - val_accuracy: 0.9831\n",
      "Epoch 42/100\n",
      "15/15 [==============================] - 2s 151ms/step - loss: 0.0352 - accuracy: 0.5212 - val_loss: 0.0429 - val_accuracy: 0.9831\n",
      "Epoch 43/100\n",
      "15/15 [==============================] - 2s 152ms/step - loss: 0.0322 - accuracy: 0.4852 - val_loss: 0.0511 - val_accuracy: 0.9831\n",
      "Epoch 44/100\n",
      "15/15 [==============================] - 2s 151ms/step - loss: 0.0298 - accuracy: 0.5085 - val_loss: 0.0275 - val_accuracy: 0.9831\n",
      "Epoch 45/100\n",
      "15/15 [==============================] - 2s 153ms/step - loss: 0.0349 - accuracy: 0.5191 - val_loss: 0.0485 - val_accuracy: 0.9661\n",
      "Epoch 46/100\n",
      "15/15 [==============================] - 2s 151ms/step - loss: 0.0307 - accuracy: 0.5847 - val_loss: 0.0334 - val_accuracy: 0.9831\n",
      "Epoch 47/100\n",
      "15/15 [==============================] - 2s 153ms/step - loss: 0.0269 - accuracy: 0.5657 - val_loss: 0.0332 - val_accuracy: 0.9661\n",
      "Epoch 48/100\n",
      "15/15 [==============================] - 2s 152ms/step - loss: 0.0287 - accuracy: 0.6102 - val_loss: 0.0234 - val_accuracy: 0.9831\n",
      "Epoch 49/100\n",
      "15/15 [==============================] - 2s 153ms/step - loss: 0.0230 - accuracy: 0.5953 - val_loss: 0.0269 - val_accuracy: 0.9831\n",
      "Epoch 50/100\n",
      "15/15 [==============================] - 2s 152ms/step - loss: 0.0229 - accuracy: 0.5932 - val_loss: 0.0267 - val_accuracy: 0.9831\n",
      "Epoch 51/100\n",
      "15/15 [==============================] - 2s 153ms/step - loss: 0.0280 - accuracy: 0.5614 - val_loss: 0.0295 - val_accuracy: 0.9831\n",
      "Epoch 52/100\n",
      "15/15 [==============================] - 2s 152ms/step - loss: 0.0241 - accuracy: 0.6377 - val_loss: 0.0205 - val_accuracy: 0.9831\n",
      "Epoch 53/100\n",
      "15/15 [==============================] - 2s 152ms/step - loss: 0.0230 - accuracy: 0.6504 - val_loss: 0.0266 - val_accuracy: 0.9831\n",
      "Epoch 54/100\n",
      "15/15 [==============================] - 2s 152ms/step - loss: 0.0200 - accuracy: 0.6462 - val_loss: 0.0135 - val_accuracy: 0.9831\n",
      "Epoch 55/100\n",
      "15/15 [==============================] - 2s 152ms/step - loss: 0.0203 - accuracy: 0.6483 - val_loss: 0.0260 - val_accuracy: 0.9831\n",
      "Epoch 56/100\n",
      "15/15 [==============================] - 2s 152ms/step - loss: 0.0201 - accuracy: 0.6780 - val_loss: 0.0155 - val_accuracy: 0.9831\n",
      "Epoch 57/100\n",
      "15/15 [==============================] - 2s 153ms/step - loss: 0.0183 - accuracy: 0.6483 - val_loss: 0.0237 - val_accuracy: 0.9831\n",
      "Epoch 58/100\n",
      "15/15 [==============================] - 2s 152ms/step - loss: 0.0183 - accuracy: 0.6631 - val_loss: 0.0236 - val_accuracy: 0.9831\n",
      "Epoch 59/100\n",
      "15/15 [==============================] - 2s 153ms/step - loss: 0.0174 - accuracy: 0.6949 - val_loss: 0.0180 - val_accuracy: 0.9831\n",
      "Epoch 60/100\n",
      "15/15 [==============================] - 2s 152ms/step - loss: 0.0164 - accuracy: 0.7182 - val_loss: 0.0127 - val_accuracy: 0.9831\n",
      "Epoch 61/100\n",
      "15/15 [==============================] - 2s 152ms/step - loss: 0.0169 - accuracy: 0.6970 - val_loss: 0.0151 - val_accuracy: 0.9831\n",
      "Epoch 62/100\n",
      "15/15 [==============================] - 2s 152ms/step - loss: 0.0180 - accuracy: 0.6568 - val_loss: 0.0251 - val_accuracy: 0.9831\n",
      "Epoch 63/100\n",
      "15/15 [==============================] - 2s 152ms/step - loss: 0.0166 - accuracy: 0.7203 - val_loss: 0.0125 - val_accuracy: 0.9831\n",
      "Epoch 64/100\n",
      "15/15 [==============================] - 2s 152ms/step - loss: 0.0151 - accuracy: 0.7394 - val_loss: 0.0176 - val_accuracy: 0.9831\n",
      "Epoch 65/100\n",
      "15/15 [==============================] - 2s 152ms/step - loss: 0.0147 - accuracy: 0.7415 - val_loss: 0.0169 - val_accuracy: 0.9831\n",
      "Epoch 66/100\n",
      "15/15 [==============================] - 2s 152ms/step - loss: 0.0140 - accuracy: 0.7331 - val_loss: 0.0159 - val_accuracy: 0.9831\n",
      "Epoch 67/100\n",
      "15/15 [==============================] - 2s 153ms/step - loss: 0.0132 - accuracy: 0.7733 - val_loss: 0.0099 - val_accuracy: 0.9831\n",
      "Epoch 68/100\n",
      "15/15 [==============================] - 2s 152ms/step - loss: 0.0126 - accuracy: 0.7733 - val_loss: 0.0130 - val_accuracy: 0.9831\n",
      "Epoch 69/100\n",
      "15/15 [==============================] - 2s 152ms/step - loss: 0.0119 - accuracy: 0.7669 - val_loss: 0.0122 - val_accuracy: 0.9831\n",
      "Epoch 70/100\n",
      "15/15 [==============================] - 2s 152ms/step - loss: 0.0118 - accuracy: 0.7987 - val_loss: 0.0085 - val_accuracy: 0.9831\n",
      "Epoch 71/100\n",
      "15/15 [==============================] - 2s 153ms/step - loss: 0.0110 - accuracy: 0.8347 - val_loss: 0.0123 - val_accuracy: 0.9831\n",
      "Epoch 72/100\n",
      "15/15 [==============================] - 2s 152ms/step - loss: 0.0116 - accuracy: 0.7924 - val_loss: 0.0117 - val_accuracy: 0.9831\n",
      "Epoch 73/100\n",
      "15/15 [==============================] - 2s 152ms/step - loss: 0.0111 - accuracy: 0.8326 - val_loss: 0.0081 - val_accuracy: 0.9831\n",
      "Epoch 74/100\n",
      "15/15 [==============================] - 2s 152ms/step - loss: 0.0116 - accuracy: 0.8369 - val_loss: 0.0101 - val_accuracy: 0.9831\n",
      "Epoch 75/100\n",
      "15/15 [==============================] - 2s 153ms/step - loss: 0.0116 - accuracy: 0.8475 - val_loss: 0.0135 - val_accuracy: 0.9831\n",
      "Epoch 76/100\n",
      "15/15 [==============================] - 2s 153ms/step - loss: 0.0110 - accuracy: 0.8305 - val_loss: 0.0079 - val_accuracy: 0.9831\n",
      "Epoch 77/100\n",
      "15/15 [==============================] - 2s 152ms/step - loss: 0.0119 - accuracy: 0.8178 - val_loss: 0.0109 - val_accuracy: 0.9831\n",
      "Epoch 78/100\n",
      "15/15 [==============================] - 2s 152ms/step - loss: 0.0093 - accuracy: 0.8750 - val_loss: 0.0077 - val_accuracy: 0.9831\n",
      "Epoch 79/100\n",
      "15/15 [==============================] - 2s 152ms/step - loss: 0.0085 - accuracy: 0.8517 - val_loss: 0.0058 - val_accuracy: 0.9831\n",
      "Epoch 80/100\n",
      "15/15 [==============================] - 2s 153ms/step - loss: 0.0095 - accuracy: 0.8750 - val_loss: 0.0057 - val_accuracy: 0.9831\n",
      "Epoch 81/100\n",
      "15/15 [==============================] - 2s 152ms/step - loss: 0.0088 - accuracy: 0.8814 - val_loss: 0.0085 - val_accuracy: 0.9831\n",
      "Epoch 82/100\n",
      "15/15 [==============================] - 2s 153ms/step - loss: 0.0085 - accuracy: 0.8792 - val_loss: 0.0042 - val_accuracy: 0.9831\n",
      "Epoch 83/100\n",
      "15/15 [==============================] - 2s 152ms/step - loss: 0.0080 - accuracy: 0.8559 - val_loss: 0.0055 - val_accuracy: 0.9831\n",
      "Epoch 84/100\n",
      "15/15 [==============================] - 2s 152ms/step - loss: 0.0085 - accuracy: 0.8623 - val_loss: 0.0052 - val_accuracy: 0.9831\n",
      "Epoch 85/100\n",
      "15/15 [==============================] - 2s 153ms/step - loss: 0.0081 - accuracy: 0.8856 - val_loss: 0.0042 - val_accuracy: 0.9831\n",
      "Epoch 86/100\n",
      "15/15 [==============================] - 2s 152ms/step - loss: 0.0079 - accuracy: 0.8792 - val_loss: 0.0063 - val_accuracy: 0.9831\n",
      "Epoch 87/100\n",
      "15/15 [==============================] - 2s 152ms/step - loss: 0.0087 - accuracy: 0.8729 - val_loss: 0.0070 - val_accuracy: 0.9831\n",
      "Epoch 88/100\n",
      "15/15 [==============================] - 2s 151ms/step - loss: 0.0076 - accuracy: 0.8898 - val_loss: 0.0053 - val_accuracy: 0.9831\n",
      "Epoch 89/100\n",
      "15/15 [==============================] - 2s 152ms/step - loss: 0.0071 - accuracy: 0.8814 - val_loss: 0.0058 - val_accuracy: 0.9831\n",
      "Epoch 90/100\n",
      "15/15 [==============================] - 2s 152ms/step - loss: 0.0063 - accuracy: 0.9047 - val_loss: 0.0043 - val_accuracy: 0.9831\n",
      "Epoch 91/100\n",
      "15/15 [==============================] - 2s 153ms/step - loss: 0.0067 - accuracy: 0.8856 - val_loss: 0.0027 - val_accuracy: 0.9831\n",
      "Epoch 92/100\n",
      "15/15 [==============================] - 2s 152ms/step - loss: 0.0075 - accuracy: 0.8835 - val_loss: 0.0069 - val_accuracy: 0.9831\n",
      "Epoch 93/100\n",
      "15/15 [==============================] - 2s 152ms/step - loss: 0.0063 - accuracy: 0.9068 - val_loss: 0.0034 - val_accuracy: 0.9831\n",
      "Epoch 94/100\n",
      "15/15 [==============================] - 2s 153ms/step - loss: 0.0063 - accuracy: 0.9047 - val_loss: 0.0038 - val_accuracy: 0.9831\n",
      "Epoch 95/100\n",
      "15/15 [==============================] - 2s 152ms/step - loss: 0.0061 - accuracy: 0.9174 - val_loss: 0.0048 - val_accuracy: 0.9831\n",
      "Epoch 96/100\n",
      "15/15 [==============================] - 2s 153ms/step - loss: 0.0058 - accuracy: 0.9047 - val_loss: 0.0049 - val_accuracy: 0.9831\n",
      "Epoch 97/100\n",
      "15/15 [==============================] - 2s 152ms/step - loss: 0.0068 - accuracy: 0.8919 - val_loss: 0.0055 - val_accuracy: 0.9831\n",
      "Epoch 98/100\n",
      "15/15 [==============================] - 2s 152ms/step - loss: 0.0049 - accuracy: 0.9386 - val_loss: 0.0033 - val_accuracy: 0.9831\n",
      "Epoch 99/100\n",
      "15/15 [==============================] - 2s 153ms/step - loss: 0.0074 - accuracy: 0.9068 - val_loss: 0.0046 - val_accuracy: 0.9831\n",
      "Epoch 100/100\n",
      "15/15 [==============================] - 2s 151ms/step - loss: 0.0059 - accuracy: 0.9343 - val_loss: 0.0024 - val_accuracy: 0.9831\n"
     ]
    }
   ],
   "source": [
    "#Train the model\n",
    "history = pose_model.fit(training_eeg, training_labels, epochs=100, validation_split=.2)"
   ]
  },
  {
   "cell_type": "code",
   "execution_count": 24,
   "metadata": {},
   "outputs": [
    {
     "data": {
      "image/png": "[encoded data removed]",
      "text/plain": [
       "<Figure size 640x480 with 1 Axes>"
      ]
     },
     "metadata": {},
     "output_type": "display_data"
    }
   ],
   "source": [
    "plt.plot(history.history['accuracy'])\n",
    "plt.plot(history.history['val_accuracy'])\n",
    "plt.title('Model accuracy')\n",
    "plt.xlabel('Epoch')\n",
    "plt.ylabel('Accuracy')\n",
    "plt.legend(['Train', 'Validation'], loc='upper left')\n",
    "plt.show()"
   ]
  },
  {
   "cell_type": "code",
   "execution_count": 25,
   "metadata": {},
   "outputs": [
    {
     "data": {
      "image/png": "[encoded data removed]",
      "text/plain": [
       "<Figure size 640x480 with 1 Axes>"
      ]
     },
     "metadata": {},
     "output_type": "display_data"
    }
   ],
   "source": [
    "plt.plot(history.history['loss'])\n",
    "plt.plot(history.history['val_loss'])\n",
    "plt.title('Model loss')\n",
    "plt.xlabel('Epoch')\n",
    "plt.ylabel('Loss')\n",
    "plt.legend(['Train', 'Validation'], loc='upper left')\n",
    "plt.show()"
   ]
  },
  {
   "cell_type": "code",
   "execution_count": 46,
   "metadata": {},
   "outputs": [
    {
     "data": {
      "text/plain": [
       "(208, 67)"
      ]
     },
     "execution_count": 46,
     "metadata": {},
     "output_type": "execute_result"
    }
   ],
   "source": [
    "#Load test data\n",
    "test_dataset = pd.read_csv('../prepared_data/Test_Data_synthetic.csv')\n",
    "test_keypoints = test_dataset.copy()\n",
    "test_labels = np.array(test_keypoints[outputs])\n",
    "test_eeg = np.array(test_keypoints[inputs])\n",
    "test_dataset.shape"
   ]
  },
  {
   "cell_type": "code",
   "execution_count": 48,
   "metadata": {},
   "outputs": [
    {
     "name": "stdout",
     "output_type": "stream",
     "text": [
      "(177, 32, 16)\n",
      "(177, 34)\n"
     ]
    }
   ],
   "source": [
    "test_eeg, test_labels = overlap_samples(seq_length, test_eeg, test_labels)\n",
    "print(test_eeg.shape)\n",
    "print(test_labels.shape)"
   ]
  },
  {
   "cell_type": "code",
   "execution_count": 49,
   "metadata": {},
   "outputs": [
    {
     "name": "stdout",
     "output_type": "stream",
     "text": [
      "6/6 [==============================] - 0s 53ms/step - loss: 0.0023 - accuracy: 0.9548\n",
      "test loss & acc: [0.002269880147650838, 0.9548022747039795]\n"
     ]
    }
   ],
   "source": [
    "#Test the model with the test data\n",
    "results = pose_model.evaluate(test_eeg, test_labels)\n",
    "print('test loss & acc:', results)"
   ]
  },
  {
   "cell_type": "code",
   "execution_count": 50,
   "metadata": {},
   "outputs": [
    {
     "name": "stdout",
     "output_type": "stream",
     "text": [
      "6/6 [==============================] - 0s 52ms/step\n"
     ]
    },
    {
     "data": {
      "text/plain": [
       "(177, 34)"
      ]
     },
     "execution_count": 50,
     "metadata": {},
     "output_type": "execute_result"
    }
   ],
   "source": [
    "preds = pose_model.predict(test_eeg)\n",
    "preds.shape"
   ]
  },
  {
   "cell_type": "code",
   "execution_count": 86,
   "metadata": {},
   "outputs": [
    {
     "data": {
      "image/png": "[encoded data removed]",
      "text/plain": [
       "<Figure size 1500x1000 with 1 Axes>"
      ]
     },
     "metadata": {},
     "output_type": "display_data"
    }
   ],
   "source": [
    "error = test_labels - preds\n",
    "sq_error = error * error\n",
    "avg_error = np.mean(sq_error, axis=0)\n",
    "plt.figure(figsize=(15, 10))\n",
    "plt.xticks(rotation=90)\n",
    "plt.ylabel('Prediction Error')\n",
    "# print(test_keypoints[outputs].columns[:])\n",
    "bar = plt.bar(test_keypoints[outputs].columns[:], avg_error)\n",
    "for i in range(0,33,3):\n",
    "    bar[i].set_color('coral')\n",
    "    bar[i+1].set_color('olivedrab')\n",
    "plt.show()"
   ]
  }
 ],
 "metadata": {
  "kernelspec": {
   "display_name": "h_shs",
   "language": "python",
   "name": "python3"
  },
  "language_info": {
   "codemirror_mode": {
    "name": "ipython",
    "version": 3
   },
   "file_extension": ".py",
   "mimetype": "text/x-python",
   "name": "python",
   "nbconvert_exporter": "python",
   "pygments_lexer": "ipython3",
   "version": "3.11.5"
  }
 },
 "nbformat": 4,
 "nbformat_minor": 2
}
